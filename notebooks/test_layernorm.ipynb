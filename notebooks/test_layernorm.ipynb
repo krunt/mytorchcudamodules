{
 "cells": [
  {
   "cell_type": "code",
   "execution_count": 11,
   "id": "9a60b174",
   "metadata": {},
   "outputs": [],
   "source": [
    "import sys\n",
    "sys.path.append('..')"
   ]
  },
  {
   "cell_type": "code",
   "execution_count": 13,
   "id": "0b2c45d9",
   "metadata": {},
   "outputs": [
    {
     "name": "stdout",
     "output_type": "stream",
     "text": [
      "No modifications detected for re-loaded extension module fused_mix_prec_layer_norm_cuda, skipping build step...\n",
      "Loading extension module fused_mix_prec_layer_norm_cuda...\n"
     ]
    }
   ],
   "source": [
    "import modules.initialize as minit\n",
    "\n",
    "minit.initialize(verbose=True)"
   ]
  },
  {
   "cell_type": "code",
   "execution_count": 15,
   "id": "0ce8cde7",
   "metadata": {},
   "outputs": [],
   "source": [
    "from modules import MixedFusedLayerNorm\n",
    "import torch"
   ]
  },
  {
   "cell_type": "code",
   "execution_count": 23,
   "id": "638b8c49",
   "metadata": {},
   "outputs": [],
   "source": [
    "device = torch.device('cuda')"
   ]
  },
  {
   "cell_type": "code",
   "execution_count": 27,
   "id": "96603089",
   "metadata": {},
   "outputs": [
    {
     "name": "stdout",
     "output_type": "stream",
     "text": [
      "forward tensor([[[[0., 0., 0., 0., 0., 0.],\n",
      "          [0., 0., 0., 0., 0., 0.],\n",
      "          [0., 0., 0., 0., 0., 0.],\n",
      "          [0., 0., 0., 0., 0., 0.]]]], device='cuda:0',\n",
      "       grad_fn=<FusedLayerNormAffineFunctionBackward>)\n",
      "backward None\n"
     ]
    }
   ],
   "source": [
    "sz = [4,6]\n",
    "layer = MixedFusedLayerNorm(sz).to(device)\n",
    "input = torch.zeros(sz).to(device).unsqueeze(0)\n",
    "input = input.unsqueeze(0)\n",
    "\n",
    "out = layer(input)\n",
    "print('forward', out)\n",
    "print('backward', out.backward(torch.randn_like(out)))"
   ]
  },
  {
   "cell_type": "code",
   "execution_count": null,
   "id": "5f515496",
   "metadata": {},
   "outputs": [],
   "source": []
  },
  {
   "cell_type": "code",
   "execution_count": null,
   "id": "85bf8efb",
   "metadata": {},
   "outputs": [],
   "source": []
  }
 ],
 "metadata": {
  "kernelspec": {
   "display_name": "Python 3 (ipykernel)",
   "language": "python",
   "name": "python3"
  },
  "language_info": {
   "codemirror_mode": {
    "name": "ipython",
    "version": 3
   },
   "file_extension": ".py",
   "mimetype": "text/x-python",
   "name": "python",
   "nbconvert_exporter": "python",
   "pygments_lexer": "ipython3",
   "version": "3.9.5"
  }
 },
 "nbformat": 4,
 "nbformat_minor": 5
}
