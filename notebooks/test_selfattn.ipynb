{
 "cells": [
  {
   "cell_type": "code",
   "execution_count": 14,
   "id": "9a60b174",
   "metadata": {},
   "outputs": [],
   "source": [
    "import sys\n",
    "sys.path.append('..')"
   ]
  },
  {
   "cell_type": "code",
   "execution_count": 15,
   "id": "0b2c45d9",
   "metadata": {},
   "outputs": [
    {
     "name": "stdout",
     "output_type": "stream",
     "text": [
      "No modifications detected for re-loaded extension module fused_mix_prec_layer_norm_cuda, skipping build step...\n",
      "Loading extension module fused_mix_prec_layer_norm_cuda...\n"
     ]
    }
   ],
   "source": [
    "import modules.initialize as minit\n",
    "\n",
    "minit.initialize(verbose=True)"
   ]
  },
  {
   "cell_type": "code",
   "execution_count": 16,
   "id": "0ce8cde7",
   "metadata": {},
   "outputs": [],
   "source": [
    "from modules import SelfMultiheadAttn, EncdecMultiheadAttn\n",
    "import torch"
   ]
  },
  {
   "cell_type": "code",
   "execution_count": 17,
   "id": "638b8c49",
   "metadata": {},
   "outputs": [],
   "source": [
    "device = torch.device('cuda')"
   ]
  },
  {
   "cell_type": "code",
   "execution_count": 18,
   "id": "94f5891e",
   "metadata": {},
   "outputs": [],
   "source": [
    "seq_length   = 80\n",
    "sequences    = 10\n",
    "hidden_dim   = 1024\n",
    "heads        = 16\n",
    "dropout_prob = 0.0"
   ]
  },
  {
   "cell_type": "code",
   "execution_count": 19,
   "id": "96603089",
   "metadata": {},
   "outputs": [],
   "source": [
    "tst_layer = SelfMultiheadAttn(hidden_dim, \n",
    "                               heads, \n",
    "                               dropout=dropout_prob, \n",
    "                               bias=False, \n",
    "                               include_norm_add=False, \n",
    "                               impl='default')\n",
    "tst_layer = tst_layer.to(device)"
   ]
  },
  {
   "cell_type": "code",
   "execution_count": 29,
   "id": "5f515496",
   "metadata": {},
   "outputs": [],
   "source": [
    "tst_inputs = torch.randn(seq_length, sequences, hidden_dim, device=device).requires_grad_(True)\n",
    "    \n",
    "\n",
    "tst_outputs,_ = tst_layer.forward(tst_inputs, \n",
    "                                   tst_inputs, \n",
    "                                   tst_inputs,\n",
    "                                   key_padding_mask=None, \n",
    "                                   need_weights=False, \n",
    "                                   attn_mask=None,\n",
    "                                   is_training=True)\n",
    "\n",
    "#print(tst_outputs.shape)\n",
    "\n",
    "tst_inputs.backward(torch.randn_like(tst_inputs))"
   ]
  },
  {
   "cell_type": "code",
   "execution_count": null,
   "id": "85bf8efb",
   "metadata": {},
   "outputs": [],
   "source": []
  },
  {
   "cell_type": "code",
   "execution_count": null,
   "id": "ea09427a",
   "metadata": {},
   "outputs": [],
   "source": []
  },
  {
   "cell_type": "code",
   "execution_count": null,
   "id": "258ab828",
   "metadata": {},
   "outputs": [],
   "source": []
  },
  {
   "cell_type": "code",
   "execution_count": null,
   "id": "f2c286bc",
   "metadata": {},
   "outputs": [],
   "source": []
  }
 ],
 "metadata": {
  "kernelspec": {
   "display_name": "Python 3 (ipykernel)",
   "language": "python",
   "name": "python3"
  },
  "language_info": {
   "codemirror_mode": {
    "name": "ipython",
    "version": 3
   },
   "file_extension": ".py",
   "mimetype": "text/x-python",
   "name": "python",
   "nbconvert_exporter": "python",
   "pygments_lexer": "ipython3",
   "version": "3.9.5"
  }
 },
 "nbformat": 4,
 "nbformat_minor": 5
}
