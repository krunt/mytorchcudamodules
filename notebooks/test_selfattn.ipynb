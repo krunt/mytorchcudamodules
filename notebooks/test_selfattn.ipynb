{
 "cells": [
  {
   "cell_type": "code",
   "execution_count": 1,
   "metadata": {},
   "outputs": [],
   "source": [
    "import sys\n",
    "sys.path.append('..')"
   ]
  },
  {
   "cell_type": "code",
   "execution_count": 2,
   "metadata": {},
   "outputs": [
    {
     "name": "stdout",
     "output_type": "stream",
     "text": [
      "Detected CUDA files, patching ldflags\n",
      "Emitting ninja build file /storage/hdd1/jheuristic/exp/decentralized/jheuristic/adapters/mytorchcudamodules/notebooks/../csrc/build/build.ninja...\n",
      "Building extension module fused_mix_prec_layer_norm_cuda...\n",
      "Allowing ninja to set a default number of workers... (overridable by setting the environment variable MAX_JOBS=N)\n",
      "Loading extension module fused_mix_prec_layer_norm_cuda...\n"
     ]
    }
   ],
   "source": [
    "import modules.initialize as minit\n",
    "\n",
    "minit.initialize(verbose=True)"
   ]
  },
  {
   "cell_type": "code",
   "execution_count": 3,
   "metadata": {},
   "outputs": [],
   "source": [
    "from modules import SelfMultiheadAttn, EncdecMultiheadAttn\n",
    "import torch"
   ]
  },
  {
   "cell_type": "code",
   "execution_count": 4,
   "metadata": {},
   "outputs": [],
   "source": [
    "device = torch.device('cuda')"
   ]
  },
  {
   "cell_type": "code",
   "execution_count": 5,
   "metadata": {},
   "outputs": [],
   "source": [
    "seq_length   = 4096\n",
    "sequences    = 2\n",
    "hidden_dim   = 4096\n",
    "heads        = 32\n",
    "dropout_prob = 0.0"
   ]
  },
  {
   "cell_type": "code",
   "execution_count": 6,
   "metadata": {},
   "outputs": [],
   "source": [
    "tst_layer = SelfMultiheadAttn(hidden_dim, \n",
    "                               heads, \n",
    "                               dropout=dropout_prob, \n",
    "                               bias=True, \n",
    "                               include_norm_add=True, \n",
    "                               impl='default')\n",
    "tst_layer = tst_layer.to(device)"
   ]
  },
  {
   "cell_type": "code",
   "execution_count": 7,
   "metadata": {},
   "outputs": [],
   "source": [
    "tst_inputs = torch.randn(seq_length, sequences, hidden_dim, device=device).requires_grad_(True)"
   ]
  },
  {
   "cell_type": "code",
   "execution_count": 8,
   "metadata": {},
   "outputs": [
    {
     "name": "stderr",
     "output_type": "stream",
     "text": [
      "../modules/self_multihead_attn_func.py:176: UserWarning: __rfloordiv__ is deprecated, and its behavior will change in a future version of pytorch. It currently rounds toward 0 (like the 'trunc' function NOT 'floor'). This results in incorrect rounding for negative values. To keep the current behavior, use torch.div(a, b, rounding_mode='trunc'), or for actual floor division, use torch.div(a, b, rounding_mode='floor').\n",
      "  head_dim = inputs.size(2) // heads_t[0]\n"
     ]
    },
    {
     "name": "stdout",
     "output_type": "stream",
     "text": [
      "CPU times: user 28.5 s, sys: 21.9 s, total: 50.4 s\n",
      "Wall time: 50.4 s\n"
     ]
    }
   ],
   "source": [
    "%%time\n",
    "for i in range(100):\n",
    "    tst_outputs,_ = tst_layer.forward(tst_inputs, \n",
    "                                       tst_inputs, \n",
    "                                       tst_inputs,\n",
    "                                       key_padding_mask=None, \n",
    "                                       need_weights=False, \n",
    "                                       attn_mask=None,\n",
    "                                       is_training=True)\n",
    "\n",
    "\n",
    "    tst_outputs.backward(torch.randn_like(tst_inputs))\n",
    "torch.cuda.synchronize(device)"
   ]
  },
  {
   "cell_type": "code",
   "execution_count": 9,
   "metadata": {},
   "outputs": [
    {
     "data": {
      "text/plain": [
       "27.312759399414062"
      ]
     },
     "execution_count": 9,
     "metadata": {},
     "output_type": "execute_result"
    }
   ],
   "source": [
    "torch.cuda.max_memory_allocated() / 2**30"
   ]
  },
  {
   "cell_type": "markdown",
   "metadata": {},
   "source": [
    "### Lean"
   ]
  },
  {
   "cell_type": "code",
   "execution_count": 1,
   "metadata": {},
   "outputs": [
    {
     "name": "stdout",
     "output_type": "stream",
     "text": [
      "env: LEAN_USE_JIT=0\n"
     ]
    }
   ],
   "source": [
    "%env LEAN_USE_JIT=0\n",
    "import sys\n",
    "sys.path.append('../..')\n",
    "\n",
    "from lib.modules.attn import LeanSelfAttention\n",
    "import torch, torch.nn as nn"
   ]
  },
  {
   "cell_type": "code",
   "execution_count": 2,
   "metadata": {},
   "outputs": [],
   "source": [
    "seq_length   = 4096\n",
    "sequences    = 2\n",
    "hidden_dim   = 4096\n",
    "heads        = 32\n",
    "dropout_prob = 0.0\n",
    "device=torch.device('cuda')"
   ]
  },
  {
   "cell_type": "code",
   "execution_count": 3,
   "metadata": {},
   "outputs": [],
   "source": [
    "tst_layer = LeanSelfAttention(hidden_dim, \n",
    "                               heads, \n",
    "                               dropout=dropout_prob, \n",
    "                               residual=False, checkpoint_attention_core=False)\n",
    "tst_layer = tst_layer.to(device)"
   ]
  },
  {
   "cell_type": "code",
   "execution_count": 4,
   "metadata": {},
   "outputs": [],
   "source": [
    "tst_inputs = torch.randn(sequences, seq_length, hidden_dim, device=device).requires_grad_(True)"
   ]
  },
  {
   "cell_type": "code",
   "execution_count": 5,
   "metadata": {},
   "outputs": [
    {
     "name": "stdout",
     "output_type": "stream",
     "text": [
      "CPU times: user 28 s, sys: 19.9 s, total: 48 s\n",
      "Wall time: 48 s\n"
     ]
    }
   ],
   "source": [
    "%%time\n",
    "for i in range(100):\n",
    "    tst_outputs, = tst_layer.forward(tst_inputs)\n",
    "    tst_outputs.backward(torch.randn_like(tst_inputs))\n",
    "torch.cuda.synchronize(device)"
   ]
  },
  {
   "cell_type": "code",
   "execution_count": 6,
   "metadata": {},
   "outputs": [
    {
     "data": {
      "text/plain": [
       "17.500244140625"
      ]
     },
     "execution_count": 6,
     "metadata": {},
     "output_type": "execute_result"
    }
   ],
   "source": [
    "torch.cuda.max_memory_allocated() / 2**30"
   ]
  },
  {
   "cell_type": "code",
   "execution_count": 5,
   "metadata": {},
   "outputs": [
    {
     "name": "stdout",
     "output_type": "stream",
     "text": [
      "CPU times: user 8.9 s, sys: 6.7 s, total: 15.6 s\n",
      "Wall time: 15.7 s\n"
     ]
    }
   ],
   "source": [
    "%%time\n",
    "with torch.cuda.amp.autocast(True):\n",
    "    for i in range(100):\n",
    "        tst_outputs, = tst_layer.forward(tst_inputs)\n",
    "        tst_outputs.backward(torch.randn_like(tst_inputs))\n",
    "torch.cuda.synchronize(device)"
   ]
  },
  {
   "cell_type": "code",
   "execution_count": 6,
   "metadata": {},
   "outputs": [
    {
     "data": {
      "text/plain": [
       "15.406532287597656"
      ]
     },
     "execution_count": 6,
     "metadata": {},
     "output_type": "execute_result"
    }
   ],
   "source": [
    "torch.cuda.max_memory_allocated() / 2**30"
   ]
  },
  {
   "cell_type": "markdown",
   "metadata": {},
   "source": [
    "### PyTorch"
   ]
  },
  {
   "cell_type": "code",
   "execution_count": 1,
   "metadata": {},
   "outputs": [],
   "source": [
    "import sys\n",
    "import torch, torch.nn as nn"
   ]
  },
  {
   "cell_type": "code",
   "execution_count": 2,
   "metadata": {},
   "outputs": [],
   "source": [
    "seq_length   = 4096\n",
    "sequences    = 2\n",
    "hidden_dim   = 4096\n",
    "heads        = 32\n",
    "dropout_prob = 0.0\n",
    "device=torch.device('cuda')"
   ]
  },
  {
   "cell_type": "code",
   "execution_count": 3,
   "metadata": {},
   "outputs": [],
   "source": [
    "class BaselineAttn(nn.Module):\n",
    "    def __init__(self, dim: int, heads: int):\n",
    "        super().__init__()\n",
    "        self.dim, self.heads = dim, heads\n",
    "        self.pre_norm = nn.LayerNorm(dim)\n",
    "        self.attn = nn.MultiheadAttention(dim, heads, add_bias_kv=True, batch_first=True)\n",
    "        self.post_norm = nn.LayerNorm(dim)\n",
    "    \n",
    "    def forward(self, input, attn_mask):\n",
    "        input = self.pre_norm(input)\n",
    "        output, weights = self.attn.forward(input, input, input, attn_mask=attn_mask)\n",
    "        return self.post_norm(output)\n"
   ]
  },
  {
   "cell_type": "code",
   "execution_count": 4,
   "metadata": {},
   "outputs": [],
   "source": [
    "tst_layer = BaselineAttn(hidden_dim, heads)\n",
    "tst_layer = tst_layer.to(device)"
   ]
  },
  {
   "cell_type": "code",
   "execution_count": 5,
   "metadata": {},
   "outputs": [],
   "source": [
    "tst_inputs = torch.randn(sequences, seq_length, hidden_dim, device=device).requires_grad_(True)\n",
    "attn_mask = torch.ones(tst_inputs.shape[0] * heads, tst_inputs.shape[1], tst_inputs.shape[1], \n",
    "                       device=tst_inputs.device)\n"
   ]
  },
  {
   "cell_type": "code",
   "execution_count": 6,
   "metadata": {},
   "outputs": [
    {
     "name": "stdout",
     "output_type": "stream",
     "text": [
      "CPU times: user 29.5 s, sys: 26 s, total: 55.5 s\n",
      "Wall time: 55.5 s\n"
     ]
    }
   ],
   "source": [
    "%%time\n",
    "for i in range(100):\n",
    "    tst_outputs = tst_layer.forward(tst_inputs, attn_mask)\n",
    "    tst_outputs.backward(torch.randn_like(tst_inputs))\n",
    "torch.cuda.synchronize(device)"
   ]
  },
  {
   "cell_type": "code",
   "execution_count": 7,
   "metadata": {},
   "outputs": [
    {
     "data": {
      "text/plain": [
       "21.758270263671875"
      ]
     },
     "execution_count": 7,
     "metadata": {},
     "output_type": "execute_result"
    }
   ],
   "source": [
    "torch.cuda.max_memory_allocated() / 2**30"
   ]
  },
  {
   "cell_type": "code",
   "execution_count": 6,
   "metadata": {},
   "outputs": [
    {
     "name": "stdout",
     "output_type": "stream",
     "text": [
      "CPU times: user 15.5 s, sys: 13.5 s, total: 29 s\n",
      "Wall time: 29.1 s\n"
     ]
    }
   ],
   "source": [
    "%%time\n",
    "with torch.cuda.amp.autocast(True):\n",
    "    for i in range(100):\n",
    "        tst_outputs = tst_layer.forward(tst_inputs, attn_mask)\n",
    "        tst_outputs.backward(torch.randn_like(tst_inputs))\n",
    "torch.cuda.synchronize(device)"
   ]
  },
  {
   "cell_type": "code",
   "execution_count": 7,
   "metadata": {},
   "outputs": [
    {
     "data": {
      "text/plain": [
       "19.60052490234375"
      ]
     },
     "execution_count": 7,
     "metadata": {},
     "output_type": "execute_result"
    }
   ],
   "source": [
    "torch.cuda.max_memory_allocated() / 2**30"
   ]
  },
  {
   "cell_type": "code",
   "execution_count": null,
   "metadata": {},
   "outputs": [],
   "source": []
  }
 ],
 "metadata": {
  "kernelspec": {
   "display_name": "py38",
   "language": "python",
   "name": "py38"
  },
  "language_info": {
   "codemirror_mode": {
    "name": "ipython",
    "version": 3
   },
   "file_extension": ".py",
   "mimetype": "text/x-python",
   "name": "python",
   "nbconvert_exporter": "python",
   "pygments_lexer": "ipython3",
   "version": "3.8.1"
  }
 },
 "nbformat": 4,
 "nbformat_minor": 5
}
