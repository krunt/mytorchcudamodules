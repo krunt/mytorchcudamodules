{
 "cells": [
  {
   "cell_type": "code",
   "execution_count": 1,
   "id": "8234fb9a",
   "metadata": {},
   "outputs": [],
   "source": [
    "import sys\n",
    "sys.path.append('..')"
   ]
  },
  {
   "cell_type": "code",
   "execution_count": null,
   "id": "fa0c1978",
   "metadata": {},
   "outputs": [],
   "source": [
    "import modules.initialize as minit\n",
    "\n",
    "minit.initialize(verbose=True)"
   ]
  },
  {
   "cell_type": "code",
   "execution_count": 4,
   "id": "c82d1069",
   "metadata": {},
   "outputs": [],
   "source": [
    "from modules import SelfMultiheadAttn, EncdecMultiheadAttn\n",
    "import torch"
   ]
  },
  {
   "cell_type": "code",
   "execution_count": 5,
   "id": "0778964f",
   "metadata": {},
   "outputs": [],
   "source": [
    "device = torch.device('cuda')"
   ]
  },
  {
   "cell_type": "code",
   "execution_count": 6,
   "id": "b37547b5",
   "metadata": {},
   "outputs": [],
   "source": [
    "seq_length   = 2048\n",
    "sequences    = 2\n",
    "hidden_dim   = 2048\n",
    "heads        = 32\n",
    "dropout_prob = 0.0"
   ]
  },
  {
   "cell_type": "code",
   "execution_count": null,
   "id": "319e5ea1",
   "metadata": {},
   "outputs": [],
   "source": [
    "tst_layer = SelfMultiheadAttn(hidden_dim, \n",
    "                               heads, \n",
    "                               dropout=dropout_prob, \n",
    "                               bias=True, \n",
    "                               include_norm_add=True, \n",
    "                               impl='default')\n",
    "tst_layer = tst_layer.to(device)"
   ]
  },
  {
   "cell_type": "code",
   "execution_count": null,
   "id": "2afdac60",
   "metadata": {},
   "outputs": [],
   "source": [
    "tst_inputs = torch.randn(seq_length, sequences, hidden_dim, device=device).requires_grad_(True)"
   ]
  },
  {
   "cell_type": "code",
   "execution_count": null,
   "id": "4ae61ad8",
   "metadata": {},
   "outputs": [],
   "source": [
    "%%time\n",
    "for i in range(100):\n",
    "    tst_outputs,_ = tst_layer.forward(tst_inputs, \n",
    "                                       tst_inputs, \n",
    "                                       tst_inputs,\n",
    "                                       key_padding_mask=None, \n",
    "                                       need_weights=False, \n",
    "                                       attn_mask=None,\n",
    "                                       is_training=True)\n",
    "\n",
    "\n",
    "    tst_outputs.backward(torch.randn_like(tst_inputs))\n",
    "torch.cuda.synchronize(device)"
   ]
  },
  {
   "cell_type": "code",
   "execution_count": null,
   "id": "7e7b1160",
   "metadata": {},
   "outputs": [],
   "source": [
    "torch.cuda.max_memory_allocated() / 2**30"
   ]
  },
  {
   "cell_type": "markdown",
   "id": "d36bc333",
   "metadata": {},
   "source": [
    "### Lean"
   ]
  },
  {
   "cell_type": "code",
   "execution_count": 12,
   "id": "b4ecf390",
   "metadata": {},
   "outputs": [
    {
     "name": "stdout",
     "output_type": "stream",
     "text": [
      "env: LEAN_USE_JIT=0\n"
     ]
    }
   ],
   "source": [
    "%env LEAN_USE_JIT=0\n",
    "import sys\n",
    "sys.path.append('../../petabert/')\n",
    "\n",
    "from lib.modules.attn import LeanSelfAttention\n",
    "import torch, torch.nn as nn"
   ]
  },
  {
   "cell_type": "code",
   "execution_count": 13,
   "id": "d70fedc0",
   "metadata": {},
   "outputs": [],
   "source": [
    "seq_length   = 2048\n",
    "sequences    = 2\n",
    "hidden_dim   = 2048\n",
    "heads        = 32\n",
    "dropout_prob = 0.0\n",
    "device=torch.device('cuda')"
   ]
  },
  {
   "cell_type": "code",
   "execution_count": 14,
   "id": "802b8aec",
   "metadata": {},
   "outputs": [],
   "source": [
    "tst_layer = LeanSelfAttention(hidden_dim, \n",
    "                               heads, \n",
    "                               dropout=dropout_prob, \n",
    "                               residual=False, checkpoint_attention_core=False)\n",
    "tst_layer = tst_layer.to(device)"
   ]
  },
  {
   "cell_type": "code",
   "execution_count": 15,
   "id": "e4c72238",
   "metadata": {},
   "outputs": [],
   "source": [
    "tst_inputs = torch.randn(sequences, seq_length, hidden_dim, device=device).requires_grad_(True)"
   ]
  },
  {
   "cell_type": "code",
   "execution_count": 16,
   "id": "385945cd",
   "metadata": {},
   "outputs": [
    {
     "name": "stdout",
     "output_type": "stream",
     "text": [
      "CPU times: user 2.56 s, sys: 1.62 s, total: 4.18 s\n",
      "Wall time: 4.19 s\n"
     ]
    }
   ],
   "source": [
    "%%time\n",
    "for i in range(100):\n",
    "    tst_outputs, = tst_layer.forward(tst_inputs)\n",
    "    tst_outputs.backward(torch.randn_like(tst_inputs))\n",
    "torch.cuda.synchronize(device)"
   ]
  },
  {
   "cell_type": "code",
   "execution_count": 17,
   "id": "c2b26099",
   "metadata": {},
   "outputs": [
    {
     "data": {
      "text/plain": [
       "4.3751220703125"
      ]
     },
     "execution_count": 17,
     "metadata": {},
     "output_type": "execute_result"
    }
   ],
   "source": [
    "torch.cuda.max_memory_allocated() / 2**30"
   ]
  },
  {
   "cell_type": "code",
   "execution_count": null,
   "id": "3c9798c9",
   "metadata": {},
   "outputs": [],
   "source": [
    "%%time\n",
    "with torch.cuda.amp.autocast(True):\n",
    "    for i in range(100):\n",
    "        tst_outputs, = tst_layer.forward(tst_inputs)\n",
    "        tst_outputs.backward(torch.randn_like(tst_inputs))\n",
    "torch.cuda.synchronize(device)"
   ]
  },
  {
   "cell_type": "code",
   "execution_count": null,
   "id": "058f25eb",
   "metadata": {},
   "outputs": [],
   "source": [
    "torch.cuda.max_memory_allocated() / 2**30"
   ]
  },
  {
   "cell_type": "markdown",
   "id": "d9ddb552",
   "metadata": {},
   "source": [
    "### PyTorch"
   ]
  },
  {
   "cell_type": "code",
   "execution_count": null,
   "id": "7f999670",
   "metadata": {},
   "outputs": [],
   "source": [
    "import sys\n",
    "import torch, torch.nn as nn"
   ]
  },
  {
   "cell_type": "code",
   "execution_count": null,
   "id": "2c34f5ca",
   "metadata": {},
   "outputs": [],
   "source": [
    "seq_length   = 4096\n",
    "sequences    = 2\n",
    "hidden_dim   = 4096\n",
    "heads        = 32\n",
    "dropout_prob = 0.0\n",
    "device=torch.device('cuda')"
   ]
  },
  {
   "cell_type": "code",
   "execution_count": null,
   "id": "355f157b",
   "metadata": {},
   "outputs": [],
   "source": [
    "class BaselineAttn(nn.Module):\n",
    "    def __init__(self, dim: int, heads: int):\n",
    "        super().__init__()\n",
    "        self.dim, self.heads = dim, heads\n",
    "        self.pre_norm = nn.LayerNorm(dim)\n",
    "        self.attn = nn.MultiheadAttention(dim, heads, add_bias_kv=True, batch_first=True)\n",
    "        self.post_norm = nn.LayerNorm(dim)\n",
    "    \n",
    "    def forward(self, input, attn_mask):\n",
    "        input = self.pre_norm(input)\n",
    "        output, weights = self.attn.forward(input, input, input, attn_mask=attn_mask)\n",
    "        return self.post_norm(output)\n"
   ]
  },
  {
   "cell_type": "code",
   "execution_count": null,
   "id": "96435b07",
   "metadata": {},
   "outputs": [],
   "source": [
    "tst_layer = BaselineAttn(hidden_dim, heads)\n",
    "tst_layer = tst_layer.to(device)"
   ]
  },
  {
   "cell_type": "code",
   "execution_count": null,
   "id": "0a2b43b2",
   "metadata": {},
   "outputs": [],
   "source": [
    "tst_inputs = torch.randn(sequences, seq_length, hidden_dim, device=device).requires_grad_(True)\n",
    "attn_mask = torch.ones(tst_inputs.shape[0] * heads, tst_inputs.shape[1], tst_inputs.shape[1], \n",
    "                       device=tst_inputs.device)\n"
   ]
  },
  {
   "cell_type": "code",
   "execution_count": null,
   "id": "69326fe7",
   "metadata": {},
   "outputs": [],
   "source": [
    "%%time\n",
    "for i in range(100):\n",
    "    tst_outputs = tst_layer.forward(tst_inputs, attn_mask)\n",
    "    tst_outputs.backward(torch.randn_like(tst_inputs))\n",
    "torch.cuda.synchronize(device)"
   ]
  },
  {
   "cell_type": "code",
   "execution_count": null,
   "id": "dea5da5c",
   "metadata": {},
   "outputs": [],
   "source": [
    "torch.cuda.max_memory_allocated() / 2**30"
   ]
  },
  {
   "cell_type": "code",
   "execution_count": null,
   "id": "a86f0c29",
   "metadata": {},
   "outputs": [],
   "source": [
    "%%time\n",
    "with torch.cuda.amp.autocast(True):\n",
    "    for i in range(100):\n",
    "        tst_outputs = tst_layer.forward(tst_inputs, attn_mask)\n",
    "        tst_outputs.backward(torch.randn_like(tst_inputs))\n",
    "torch.cuda.synchronize(device)"
   ]
  },
  {
   "cell_type": "code",
   "execution_count": null,
   "id": "ad423a9d",
   "metadata": {},
   "outputs": [],
   "source": [
    "torch.cuda.max_memory_allocated() / 2**30"
   ]
  },
  {
   "cell_type": "code",
   "execution_count": null,
   "id": "0c8c44cb",
   "metadata": {},
   "outputs": [],
   "source": []
  }
 ],
 "metadata": {
  "kernelspec": {
   "display_name": "Python 3 (ipykernel)",
   "language": "python",
   "name": "python3"
  },
  "language_info": {
   "codemirror_mode": {
    "name": "ipython",
    "version": 3
   },
   "file_extension": ".py",
   "mimetype": "text/x-python",
   "name": "python",
   "nbconvert_exporter": "python",
   "pygments_lexer": "ipython3",
   "version": "3.9.5"
  }
 },
 "nbformat": 4,
 "nbformat_minor": 5
}
