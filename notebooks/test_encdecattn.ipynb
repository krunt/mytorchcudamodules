{
 "cells": [
  {
   "cell_type": "code",
   "execution_count": 1,
   "id": "9a60b174",
   "metadata": {},
   "outputs": [],
   "source": [
    "import sys\n",
    "sys.path.append('..')"
   ]
  },
  {
   "cell_type": "code",
   "execution_count": 2,
   "id": "0b2c45d9",
   "metadata": {},
   "outputs": [
    {
     "name": "stdout",
     "output_type": "stream",
     "text": [
      "Detected CUDA files, patching ldflags\n",
      "Emitting ninja build file /home/alexey/torch_experiments/mytorchcudamodules/notebooks/../csrc/build/build.ninja...\n",
      "Building extension module fused_mix_prec_layer_norm_cuda...\n",
      "Allowing ninja to set a default number of workers... (overridable by setting the environment variable MAX_JOBS=N)\n",
      "ninja: no work to do.\n",
      "Loading extension module fused_mix_prec_layer_norm_cuda...\n"
     ]
    }
   ],
   "source": [
    "import modules.initialize as minit\n",
    "\n",
    "minit.initialize(verbose=True)"
   ]
  },
  {
   "cell_type": "code",
   "execution_count": 3,
   "id": "0ce8cde7",
   "metadata": {},
   "outputs": [],
   "source": [
    "from modules import SelfMultiheadAttn, EncdecMultiheadAttn\n",
    "import torch"
   ]
  },
  {
   "cell_type": "code",
   "execution_count": 4,
   "id": "638b8c49",
   "metadata": {},
   "outputs": [],
   "source": [
    "device = torch.device('cuda')"
   ]
  },
  {
   "cell_type": "code",
   "execution_count": 5,
   "id": "4859d0a8",
   "metadata": {},
   "outputs": [],
   "source": [
    "seq_length   = 80\n",
    "sequences    = 10\n",
    "hidden_dim   = 1024\n",
    "heads        = 16\n",
    "dropout_prob = 0.0"
   ]
  },
  {
   "cell_type": "code",
   "execution_count": 6,
   "id": "96603089",
   "metadata": {},
   "outputs": [],
   "source": [
    "tst_layer = EncdecMultiheadAttn(hidden_dim, \n",
    "                               heads, \n",
    "                               dropout=dropout_prob, \n",
    "                               bias=False, \n",
    "                               include_norm_add=False, \n",
    "                               impl='default')\n",
    "tst_layer = tst_layer.to(device)"
   ]
  },
  {
   "cell_type": "code",
   "execution_count": 7,
   "id": "5f515496",
   "metadata": {},
   "outputs": [],
   "source": [
    "\n",
    "tst_inputs_q = torch.randn(seq_length, sequences, hidden_dim, \n",
    "                                device=torch.device(\"cuda\")).requires_grad_(True)\n",
    "tst_inputs_k = torch.randn(seq_length, sequences, hidden_dim, \n",
    "                                device=torch.device(\"cuda\")).requires_grad_(True)\n",
    "\n",
    "tst_outputs,_ = tst_layer.forward(tst_inputs_q, \n",
    "                                   tst_inputs_k, \n",
    "                                   tst_inputs_k,\n",
    "                                   key_padding_mask=None, \n",
    "                                   need_weights=False, \n",
    "                                   attn_mask=None,\n",
    "                                   is_training=True)\n",
    "\n",
    "#print(tst_outputs.shape)\n",
    "\n",
    "tst_inputs_q.backward(torch.randn_like(tst_inputs_q))"
   ]
  },
  {
   "cell_type": "code",
   "execution_count": null,
   "id": "85bf8efb",
   "metadata": {},
   "outputs": [],
   "source": []
  },
  {
   "cell_type": "code",
   "execution_count": null,
   "id": "6b00d9e6",
   "metadata": {},
   "outputs": [],
   "source": []
  },
  {
   "cell_type": "code",
   "execution_count": null,
   "id": "4859e502",
   "metadata": {},
   "outputs": [],
   "source": []
  },
  {
   "cell_type": "code",
   "execution_count": null,
   "id": "fc0bc575",
   "metadata": {},
   "outputs": [],
   "source": []
  }
 ],
 "metadata": {
  "kernelspec": {
   "display_name": "Python 3 (ipykernel)",
   "language": "python",
   "name": "python3"
  },
  "language_info": {
   "codemirror_mode": {
    "name": "ipython",
    "version": 3
   },
   "file_extension": ".py",
   "mimetype": "text/x-python",
   "name": "python",
   "nbconvert_exporter": "python",
   "pygments_lexer": "ipython3",
   "version": "3.9.5"
  }
 },
 "nbformat": 4,
 "nbformat_minor": 5
}
